{
  "metadata": {
    "kernelspec": {
      "name": "xjavascript",
      "display_name": "JavaScript (xjavascript)",
      "language": "javascript"
    },
    "language_info": {
      "codemirror_mode": "",
      "file_extension": "js",
      "mimetype": "text/x-javascript",
      "name": "javascript",
      "nbconvert_exporter": "",
      "pygments_lexer": "",
      "version": "ES6"
    }
  },
  "nbformat_minor": 4,
  "nbformat": 4,
  "cells": [
    {
      "cell_type": "code",
      "source": "const user_query = \"Out of the customers living in USA, whose last name starts with 'B' \";",
      "metadata": {
        "trusted": true
      },
      "outputs": [],
      "execution_count": 1
    },
    {
      "cell_type": "code",
      "source": "display_data = function (data1, metadata = {}, transient = {}) { //TODO: to upgrade to Xeus 4\n        ijs.display.display(data1, metadata, transient);\n    }\n\nupdate_data = function (data1, metadata = {}, transient = {}) { //TODO: to upgrade to Xeus 4\n        ijs.display.update_display_data(data1, metadata, transient);\n }\ndisplay_markdown = function (markdown1, metadata = {}, transient = {}) {\n        display_data({ \"text/markdown\": markdown1 }, metadata, transient);\n}",
      "metadata": {
        "trusted": true
      },
      "outputs": [],
      "execution_count": 1
    },
    {
      "cell_type": "code",
      "source": "import { OpenAI } from \"@langchain/openai\";\n\nchat = async function(user_query){\n\n\nconst openai_api_base='https://delta.helloway.workers.dev/v1';\nconst openai_api_key= 'enter your key here';\n\n\n// Initialize a new instance of ChatOpenAI\nconst llm = new OpenAI({  \n    modelName: \"gpt-4\",\n    configuration: {\n    baseURL:  openai_api_base,\n  },\n    openAIApiKey: openai_api_key,\n    temperature: 0,\n});\n//generate sql query. modify the prompt to include your own db schema\ndisplay_markdown('### User Query:')\nconst query_str = '### '+ user_query\ndisplay_markdown(query_str)\ndisplay_markdown('*helper steps to answer the question:*')\nprompt_str = `\nhere is a schema of a 'customers' table saved in an sqlite database. I would like you to understand this table completely,\nand understand the following user question about the table and provide any SQL query, that should work for an sqlite database, that would return the \nrelated records that would answer the user question.\nhere is the schema:\n'{\"cid\":{\"0\":0,\"1\":1,\"2\":2,\"3\":3,\"4\":4,\"5\":5,\"6\":6,\"7\":7,\"8\":8,\"9\":9,\"10\":10,\"11\":11,\"12\":12},\"name\":{\"0\":\"CustomerId\",\"1\":\"FirstName\",\"2\":\"LastName\",\"3\":\"Company\",\"4\":\"Address\",\"5\":\"City\",\"6\":\"State\",\"7\":\"Country\",\"8\":\"PostalCode\",\"9\":\"Phone\",\"10\":\"Fax\",\"11\":\"Email\",\"12\":\"SupportRepId\"},\"type\":{\"0\":\"INTEGER\",\"1\":\"NVARCHAR(40)\",\"2\":\"NVARCHAR(20)\",\"3\":\"NVARCHAR(80)\",\"4\":\"NVARCHAR(70)\",\"5\":\"NVARCHAR(40)\",\"6\":\"NVARCHAR(40)\",\"7\":\"NVARCHAR(40)\",\"8\":\"NVARCHAR(10)\",\"9\":\"NVARCHAR(24)\",\"10\":\"NVARCHAR(24)\",\"11\":\"NVARCHAR(60)\",\"12\":\"INTEGER\"},\"notnull\":{\"0\":1,\"1\":1,\"2\":1,\"3\":0,\"4\":0,\"5\":0,\"6\":0,\"7\":0,\"8\":0,\"9\":0,\"10\":0,\"11\":1,\"12\":0},\"dflt_value\":{\"0\":null,\"1\":null,\"2\":null,\"3\":null,\"4\":null,\"5\":null,\"6\":null,\"7\":null,\"8\":null,\"9\":null,\"10\":null,\"11\":null,\"12\":null},\"pk\":{\"0\":1,\"1\":0,\"2\":0,\"3\":0,\"4\":0,\"5\":0,\"6\":0,\"7\":0,\"8\":0,\"9\":0,\"10\":0,\"11\":0,\"12\":0}}'\n\nuser query: ${user_query}\nplease return just the SQL query and nothing else. dont return any extra keywords or explanation.\njust return the query\n`\n\nconst res = await llm.call(prompt_str);\ndisplay_markdown('***sql query generated. here is the query:***');\nconst text = '**'+res\ndisplay_markdown(text);\n// download sqlite database\nawait import('https://cdn.jsdelivr.net/pyodide/v0.25.0/full/pyodide.js');\nlet pyodide = await loadPyodide();\nlet zipResponse = await fetch(\"https://github.com/SaiNavyanth2000/public_data/raw/main/hsbc_sample_employee_db.zip\");\nlet zipBinary = await zipResponse.arrayBuffer();\npyodide.unpackArchive(zipBinary, \"zip\");\ndisplay_markdown('***sqlite database downloaded***')\n\n//read relevant rows from database\nawait pyodide.loadPackage(\"micropip\");\nconst micropip = pyodide.pyimport(\"micropip\");\nawait micropip.install('pandas')\nawait micropip.install('sqlalchemy')\nlet extract_data = pyodide.runPython(`\n    from sqlalchemy import text\n    import sqlalchemy\n    import pandas as pd\n    #2.-Turn on database engine\n    dbEngine=sqlalchemy.create_engine('sqlite:///employees.db') \n    def extract_data(sql_query):\n        with dbEngine.begin() as conn:\n            query = text(sql_query)\n            df = pd.read_sql_query(query, conn)\n            print('data fetched')\n            return df.to_json()\n    extract_data\n  `);\nlet df_result = extract_data(res)\ndisplay_markdown('***extracted data from the database. here is the data:***')\nconsole.log(df_result)\n\n//generate python query\n\n\nprompt_str = `\nhere is a question from a user that you need to answer only based on the given data and nothing else:\nuser query: ${user_query}\n\nhere is an SQL query related to the user question that helps answering the above question. use this query just to help your answer, dont specify about the sql query itself in your answer:\nsql_query: ${res}\n\nhere is the result from executing the above SQL query:\n${df_result}\n\nbased on the above information, if you can directly answer the user question, please provide the answer directly starting with \"output\" and providing a detailed answer.\nif you have answered the question, then skip the next steps.\nif you think any python code is required to answer the question, provide the python code to evaluate the answer, starting with \"python\" keyword. \ngenerate a complete executable python code. the format of the python code is something similar to this:\n\"def generate_answer(df_result):\n    #do some analysis\n    return answer_string\ngenerate_answer\"\nhere you have a function that generates the answer as a string, and returns that string. In addition, the name of the function is being added at the end.\ngenerate a python code in the above format. make the generated answer string descriptive.\n`\n\nconst code_res = await llm.call(prompt_str);\n// Remove the quotes and 'Python' keyword\nif (code_res.startsWith('output') || code_res.startswith('Output')){\n    const output_keyword = 'output'\n    const output = code_res.substring(output_keyword.length + 2); //adding 2 to exclude colon and space\n    const user_query = '***Here is the answer to the above question:***' \n    display_markdown(user_query)\n    answer = '## '+output\n    display_markdown(answer)\n}\nelse{\nconsole.log('output generated. here is the code:');\nconsole.log(code_res);\nconsole.log('printed python code');\n    // Remove the quotes and 'Python' keyword\nconst code = code_res.replace(\"python\",\"\").replace(/`{3}/g, \"\");\nconsole.log(code);\nlet coderun = pyodide.runPython(code);\n}\n}",
      "metadata": {
        "trusted": true
      },
      "outputs": [],
      "execution_count": 13
    },
    {
      "cell_type": "code",
      "source": "await chat(\"how many customers live in USA? \");",
      "metadata": {
        "trusted": true
      },
      "outputs": [
        {
          "output_type": "display_data",
          "data": {
            "text/markdown": "### User Query:"
          },
          "metadata": {}
        },
        {
          "output_type": "display_data",
          "data": {
            "text/markdown": "### how many customers live in USA? "
          },
          "metadata": {}
        },
        {
          "output_type": "display_data",
          "data": {
            "text/markdown": "*helper steps to answer the question:*"
          },
          "metadata": {}
        },
        {
          "output_type": "display_data",
          "data": {
            "text/markdown": "***sql query generated. here is the query:***"
          },
          "metadata": {}
        },
        {
          "output_type": "display_data",
          "data": {
            "text/markdown": "**SELECT COUNT(*) FROM customers WHERE Country = 'USA';"
          },
          "metadata": {}
        },
        {
          "output_type": "display_data",
          "data": {
            "text/markdown": "***sqlite database downloaded***"
          },
          "metadata": {}
        },
        {
          "name": "stdout",
          "text": "Loading micropip, packaging\nLoaded micropip, packaging\nLoading pandas, numpy, python-dateutil, six, pytz\nLoaded numpy, pandas, python-dateutil, pytz, six\nLoading sqlalchemy, sqlite3, typing-extensions\nLoaded sqlalchemy, sqlite3, typing-extensions\ndata fetched\n",
          "output_type": "stream"
        },
        {
          "output_type": "display_data",
          "data": {
            "text/markdown": "***extracted data from the database. here is the data:***"
          },
          "metadata": {}
        },
        {
          "name": "stdout",
          "text": "{\"COUNT(*)\":{\"0\":13}}\n",
          "output_type": "stream"
        },
        {
          "output_type": "display_data",
          "data": {
            "text/markdown": "***Here is the answer to the above question:***"
          },
          "metadata": {}
        },
        {
          "output_type": "display_data",
          "data": {
            "text/markdown": "## There are 13 customers who live in the USA."
          },
          "metadata": {}
        }
      ],
      "execution_count": 14
    },
    {
      "cell_type": "code",
      "source": "await chat(\"Out of the customers living in USA, whose last name starts with 'B' \");",
      "metadata": {
        "trusted": true
      },
      "outputs": [
        {
          "output_type": "display_data",
          "data": {
            "text/markdown": "### User Query:"
          },
          "metadata": {}
        },
        {
          "output_type": "display_data",
          "data": {
            "text/markdown": "### Out of the customers living in USA, whose last name starts with 'B' "
          },
          "metadata": {}
        },
        {
          "output_type": "display_data",
          "data": {
            "text/markdown": "*helper steps to answer the question:*"
          },
          "metadata": {}
        },
        {
          "output_type": "display_data",
          "data": {
            "text/markdown": "***sql query generated. here is the query:***"
          },
          "metadata": {}
        },
        {
          "output_type": "display_data",
          "data": {
            "text/markdown": "**SELECT * FROM customers WHERE Country = 'USA' AND LastName LIKE 'B%';"
          },
          "metadata": {}
        },
        {
          "output_type": "display_data",
          "data": {
            "text/markdown": "***sqlite database downloaded***"
          },
          "metadata": {}
        },
        {
          "name": "stdout",
          "text": "Loading micropip, packaging\nLoaded micropip, packaging\nLoading pandas, numpy, python-dateutil, six, pytz\nLoaded numpy, pandas, python-dateutil, pytz, six\nLoading sqlalchemy, sqlite3, typing-extensions\nLoaded sqlalchemy, sqlite3, typing-extensions\ndata fetched\n",
          "output_type": "stream"
        },
        {
          "output_type": "display_data",
          "data": {
            "text/markdown": "***extracted data from the database. here is the data:***"
          },
          "metadata": {}
        },
        {
          "name": "stdout",
          "text": "{\"CustomerId\":{\"0\":18,\"1\":28},\"FirstName\":{\"0\":\"Michelle\",\"1\":\"Julia\"},\"LastName\":{\"0\":\"Brooks\",\"1\":\"Barnett\"},\"Company\":{\"0\":null,\"1\":null},\"Address\":{\"0\":\"627 Broadway\",\"1\":\"302 S 700 E\"},\"City\":{\"0\":\"New York\",\"1\":\"Salt Lake City\"},\"State\":{\"0\":\"NY\",\"1\":\"UT\"},\"Country\":{\"0\":\"USA\",\"1\":\"USA\"},\"PostalCode\":{\"0\":\"10012-2612\",\"1\":\"84102\"},\"Phone\":{\"0\":\"+1 (212) 221-3546\",\"1\":\"+1 (801) 531-7272\"},\"Fax\":{\"0\":\"+1 (212) 221-4679\",\"1\":null},\"Email\":{\"0\":\"michelleb@aol.com\",\"1\":\"jubarnett@gmail.com\"},\"SupportRepId\":{\"0\":3,\"1\":5}}\n",
          "output_type": "stream"
        },
        {
          "output_type": "display_data",
          "data": {
            "text/markdown": "***Here is the answer to the above question:***"
          },
          "metadata": {}
        },
        {
          "output_type": "display_data",
          "data": {
            "text/markdown": "## The customers living in USA, whose last name starts with 'B' are Michelle Brooks and Julia Barnett. Michelle Brooks lives in New York, NY with the postal code 10012-2612. She can be contacted via phone at +1 (212) 221-3546 or via email at michelleb@aol.com. Julia Barnett lives in Salt Lake City, UT with the postal code 84102. She can be contacted via phone at +1 (801) 531-7272 or via email at jubarnett@gmail.com."
          },
          "metadata": {}
        }
      ],
      "execution_count": 15
    },
    {
      "cell_type": "code",
      "source": "await chat(\"how many customers first name start with 'Z'?\");",
      "metadata": {
        "trusted": true
      },
      "outputs": [
        {
          "output_type": "display_data",
          "data": {
            "text/markdown": "### User Query:"
          },
          "metadata": {}
        },
        {
          "output_type": "display_data",
          "data": {
            "text/markdown": "### how many customers first name start with 'Z'?"
          },
          "metadata": {}
        },
        {
          "output_type": "display_data",
          "data": {
            "text/markdown": "*helper steps to answer the question:*"
          },
          "metadata": {}
        },
        {
          "output_type": "display_data",
          "data": {
            "text/markdown": "***sql query generated. here is the query:***"
          },
          "metadata": {}
        },
        {
          "output_type": "display_data",
          "data": {
            "text/markdown": "**SELECT COUNT(*) FROM customers WHERE FirstName LIKE 'Z%';"
          },
          "metadata": {}
        },
        {
          "output_type": "display_data",
          "data": {
            "text/markdown": "***sqlite database downloaded***"
          },
          "metadata": {}
        },
        {
          "name": "stdout",
          "text": "Loading micropip, packaging\nLoaded micropip, packaging\nLoading pandas, numpy, python-dateutil, six, pytz\nLoaded numpy, pandas, python-dateutil, pytz, six\nLoading sqlalchemy, sqlite3, typing-extensions\nLoaded sqlalchemy, sqlite3, typing-extensions\ndata fetched\n",
          "output_type": "stream"
        },
        {
          "output_type": "display_data",
          "data": {
            "text/markdown": "***extracted data from the database. here is the data:***"
          },
          "metadata": {}
        },
        {
          "name": "stdout",
          "text": "{\"COUNT(*)\":{\"0\":0}}\n",
          "output_type": "stream"
        },
        {
          "output_type": "display_data",
          "data": {
            "text/markdown": "***Here is the answer to the above question:***"
          },
          "metadata": {}
        },
        {
          "output_type": "display_data",
          "data": {
            "text/markdown": "## There are no customers whose first name starts with 'Z'."
          },
          "metadata": {}
        }
      ],
      "execution_count": 16
    },
    {
      "cell_type": "markdown",
      "source": "## Helper Function to Generate DB Schema",
      "metadata": {}
    },
    {
      "cell_type": "code",
      "source": "await import(\"https://cdn.jsdelivr.net/pyodide/v0.25.0/full/pyodide.js\");\nconsole.log(\"test\");\nlet pyodide = await loadPyodide();\nlet zipResponse = await fetch(\n  \"https://github.com/SaiNavyanth2000/public_data/raw/main/hsbc_sample_employee_db.zip\"\n);\nlet zipBinary = await zipResponse.arrayBuffer();\npyodide.unpackArchive(zipBinary, \"zip\");\nawait pyodide.loadPackage(\"micropip\");\nconst micropip = pyodide.pyimport(\"micropip\");\nawait micropip.install(\"pandas\");\nawait micropip.install(\"sqlalchemy\");\nlet extract_data = pyodide.runPython(`\nfrom sqlalchemy import text\nimport sqlalchemy\nimport pandas as pd\n#2.-Turn on database engine\ndbEngine=sqlalchemy.create_engine('sqlite:///employees.db', echo=True) \ndef extract_data(sql_query):\n    with dbEngine.begin() as conn:\n        query = text(sql_query)\n        df = pd.read_sql_query(query, conn)\n        return df.to_json()\nextract_data\n`);\n\nschema_str = extract_data(\"pragma table_info(customers)\");\nschema_str;",
      "metadata": {
        "trusted": true
      },
      "outputs": [
        {
          "name": "stdout",
          "text": "test\nLoading micropip, packaging\nLoaded micropip, packaging\nLoading pandas, numpy, python-dateutil, six, pytz\nLoaded numpy, pandas, python-dateutil, pytz, six\nLoading sqlalchemy, sqlite3, typing-extensions\nLoaded sqlalchemy, sqlite3, typing-extensions\n2024-06-27 11:23:48,828 INFO sqlalchemy.engine.Engine BEGIN (implicit)\n2024-06-27 11:23:48,833 INFO sqlalchemy.engine.Engine pragma table_info(customers)\n2024-06-27 11:23:48,835 INFO sqlalchemy.engine.Engine [generated in 0.00210s] ()\n2024-06-27 11:23:48,891 INFO sqlalchemy.engine.Engine COMMIT\n",
          "output_type": "stream"
        }
      ],
      "execution_count": 1
    },
    {
      "cell_type": "code",
      "source": "schema_str",
      "metadata": {
        "trusted": true
      },
      "outputs": [
        {
          "execution_count": 3,
          "output_type": "execute_result",
          "data": {
            "text/plain": "{\"cid\":{\"0\":0,\"1\":1,\"2\":2,\"3\":3,\"4\":4,\"5\":5,\"6\":6,\"7\":7,\"8\":8,\"9\":9,\"10\":10,\"11\":11,\"12\":12},\"name\":{\"0\":\"CustomerId\",\"1\":\"FirstName\",\"2\":\"LastName\",\"3\":\"Company\",\"4\":\"Address\",\"5\":\"City\",\"6\":\"State\",\"7\":\"Country\",\"8\":\"PostalCode\",\"9\":\"Phone\",\"10\":\"Fax\",\"11\":\"Email\",\"12\":\"SupportRepId\"},\"type\":{\"0\":\"INTEGER\",\"1\":\"NVARCHAR(40)\",\"2\":\"NVARCHAR(20)\",\"3\":\"NVARCHAR(80)\",\"4\":\"NVARCHAR(70)\",\"5\":\"NVARCHAR(40)\",\"6\":\"NVARCHAR(40)\",\"7\":\"NVARCHAR(40)\",\"8\":\"NVARCHAR(10)\",\"9\":\"NVARCHAR(24)\",\"10\":\"NVARCHAR(24)\",\"11\":\"NVARCHAR(60)\",\"12\":\"INTEGER\"},\"notnull\":{\"0\":1,\"1\":1,\"2\":1,\"3\":0,\"4\":0,\"5\":0,\"6\":0,\"7\":0,\"8\":0,\"9\":0,\"10\":0,\"11\":1,\"12\":0},\"dflt_value\":{\"0\":null,\"1\":null,\"2\":null,\"3\":null,\"4\":null,\"5\":null,\"6\":null,\"7\":null,\"8\":null,\"9\":null,\"10\":null,\"11\":null,\"12\":null},\"pk\":{\"0\":1,\"1\":0,\"2\":0,\"3\":0,\"4\":0,\"5\":0,\"6\":0,\"7\":0,\"8\":0,\"9\":0,\"10\":0,\"11\":0,\"12\":0}}"
          },
          "metadata": {}
        }
      ],
      "execution_count": 3
    },
    {
      "cell_type": "code",
      "source": "",
      "metadata": {
        "trusted": true
      },
      "outputs": [],
      "execution_count": null
    }
  ]
}