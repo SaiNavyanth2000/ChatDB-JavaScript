{
  "metadata": {
    "kernelspec": {
      "name": "xjavascript",
      "display_name": "JavaScript (xjavascript)",
      "language": "javascript"
    },
    "language_info": {
      "codemirror_mode": "",
      "file_extension": "js",
      "mimetype": "text/x-javascript",
      "name": "javascript",
      "nbconvert_exporter": "",
      "pygments_lexer": "",
      "version": "ES6"
    }
  },
  "nbformat_minor": 4,
  "nbformat": 4,
  "cells": [
    {
      "cell_type": "markdown",
      "source": "## Get required SQL Query based on prompt",
      "metadata": {
        "jp-MarkdownHeadingCollapsed": true
      }
    },
    {
      "cell_type": "code",
      "source": "const user_query = \"how many customers work in USA?\";",
      "metadata": {
        "trusted": true
      },
      "outputs": [],
      "execution_count": 52
    },
    {
      "cell_type": "code",
      "source": "import { OpenAI } from \"@langchain/openai\";\n\n\nconst openai_api_base='https://delta.helloway.workers.dev/v1';\nconst openai_api_key= 'sk-BGuzv1Xgj1u5WDObw7sYT3BlbkFJrQd1upRgeTbymcina';\n\n\n// Initialize a new instance of ChatOpenAI\nconst llm = new OpenAI({  \n    modelName: \"gpt-3.5-turbo-0125\",\n    configuration: {\n    baseURL:  openai_api_base,\n  },\n    openAIApiKey: openai_api_key,\n    temperature: 0,\n});\n\nprompt_str = `\nhere is a schema of a 'customers' table saved in an sqlite database. I would like you to understand this table completely,\nand understand the following user question about the table and provide any SQL query, that should work for an sqlite database, that would return the \nrelated records that would answer the user question.\nhere is the schema:\n'{\"cid\":{\"0\":0,\"1\":1,\"2\":2,\"3\":3,\"4\":4,\"5\":5,\"6\":6,\"7\":7,\"8\":8,\"9\":9,\"10\":10,\"11\":11,\"12\":12},\"name\":{\"0\":\"CustomerId\",\"1\":\"FirstName\",\"2\":\"LastName\",\"3\":\"Company\",\"4\":\"Address\",\"5\":\"City\",\"6\":\"State\",\"7\":\"Country\",\"8\":\"PostalCode\",\"9\":\"Phone\",\"10\":\"Fax\",\"11\":\"Email\",\"12\":\"SupportRepId\"},\"type\":{\"0\":\"INTEGER\",\"1\":\"NVARCHAR(40)\",\"2\":\"NVARCHAR(20)\",\"3\":\"NVARCHAR(80)\",\"4\":\"NVARCHAR(70)\",\"5\":\"NVARCHAR(40)\",\"6\":\"NVARCHAR(40)\",\"7\":\"NVARCHAR(40)\",\"8\":\"NVARCHAR(10)\",\"9\":\"NVARCHAR(24)\",\"10\":\"NVARCHAR(24)\",\"11\":\"NVARCHAR(60)\",\"12\":\"INTEGER\"},\"notnull\":{\"0\":1,\"1\":1,\"2\":1,\"3\":0,\"4\":0,\"5\":0,\"6\":0,\"7\":0,\"8\":0,\"9\":0,\"10\":0,\"11\":1,\"12\":0},\"dflt_value\":{\"0\":null,\"1\":null,\"2\":null,\"3\":null,\"4\":null,\"5\":null,\"6\":null,\"7\":null,\"8\":null,\"9\":null,\"10\":null,\"11\":null,\"12\":null},\"pk\":{\"0\":1,\"1\":0,\"2\":0,\"3\":0,\"4\":0,\"5\":0,\"6\":0,\"7\":0,\"8\":0,\"9\":0,\"10\":0,\"11\":0,\"12\":0}}'\n\nuser query: {user_query}\nplease return just the SQL query and nothing else. dont return any extra keywords or explanation.\njust return the query\n`\n\nconst res = await llm.call(prompt_str);\n",
      "metadata": {
        "trusted": true
      },
      "outputs": [],
      "execution_count": 37
    },
    {
      "cell_type": "code",
      "source": "res",
      "metadata": {
        "trusted": true
      },
      "outputs": [
        {
          "execution_count": 38,
          "output_type": "execute_result",
          "data": {
            "text/plain": "SELECT * FROM customers WHERE Country = 'USA';"
          },
          "metadata": {}
        }
      ],
      "execution_count": 38
    },
    {
      "cell_type": "markdown",
      "source": "## Download SQLite database from Github",
      "metadata": {
        "jp-MarkdownHeadingCollapsed": true
      }
    },
    {
      "cell_type": "code",
      "source": "await import('https://cdn.jsdelivr.net/pyodide/v0.25.0/full/pyodide.js');\nconsole.log('test');\nlet pyodide = await loadPyodide();\nlet zipResponse = await fetch(\"https://github.com/SaiNavyanth2000/public_data/raw/main/hsbc_sample_employee_db.zip\");\nlet zipBinary = await zipResponse.arrayBuffer();\npyodide.unpackArchive(zipBinary, \"zip\");",
      "metadata": {
        "trusted": true
      },
      "outputs": [
        {
          "name": "stdout",
          "text": "test\n",
          "output_type": "stream"
        }
      ],
      "execution_count": 48
    },
    {
      "cell_type": "markdown",
      "source": "### Verify if the file is available in pyodide",
      "metadata": {
        "jp-MarkdownHeadingCollapsed": true
      }
    },
    {
      "cell_type": "code",
      "source": "// To list the files of the root folder in Python\nconst lst=`import os\nprint(\"testing\")\ndef list_files():\n    for file_name in os.listdir():\n        print(file_name)\n\nlist_files()`;\n\npyodide.runPython(lst);",
      "metadata": {
        "trusted": true
      },
      "outputs": [
        {
          "name": "stdout",
          "text": "testing\nemployees.db\n.matplotlib\n",
          "output_type": "stream"
        }
      ],
      "execution_count": 27
    },
    {
      "cell_type": "markdown",
      "source": "## Generate and execute required python code to answer the question",
      "metadata": {
        "jp-MarkdownHeadingCollapsed": true
      }
    },
    {
      "cell_type": "markdown",
      "source": "### Query the DB to get the related rows in JSON format",
      "metadata": {}
    },
    {
      "cell_type": "code",
      "source": "// await import('https://cdn.jsdelivr.net/pyodide/v0.25.0/full/pyodide.js');\n\n// let pyodide = await loadPyodide();\nawait pyodide.loadPackage(\"micropip\");\nconst micropip = pyodide.pyimport(\"micropip\");\nawait micropip.install('pandas')\nawait micropip.install('sqlalchemy')\nlet extract_data = pyodide.runPython(`\n    print('hi')\n    from sqlalchemy import text\n    import sqlalchemy\n    import pandas as pd\n    #2.-Turn on database engine\n    dbEngine=sqlalchemy.create_engine('sqlite:///employees.db') \n    def extract_data(sql_query):\n        with dbEngine.begin() as conn:\n            query = text(sql_query)\n            df = pd.read_sql_query(query, conn)\n            print(df)\n            return df.to_json()\n    extract_data\n  `);\nlet df_result = extract_data(res)\ndf_result",
      "metadata": {
        "trusted": true,
        "scrolled": true
      },
      "outputs": [
        {
          "name": "stdout",
          "text": "micropip already loaded from default channel\nNo new packages to load\nhi\n    CustomerId FirstName  ...                     Email SupportRepId\n0           16     Frank  ...        fharris@google.com            4\n1           17      Jack  ...   jacksmith@microsoft.com            5\n2           18  Michelle  ...         michelleb@aol.com            3\n3           19       Tim  ...          tgoyer@apple.com            3\n4           20       Dan  ...       dmiller@comcast.com            4\n5           21     Kathy  ...       kachase@hotmail.com            5\n6           22   Heather  ...        hleacock@gmail.com            4\n7           23      John  ...    johngordon22@yahoo.com            4\n8           24     Frank  ...        fralston@gmail.com            3\n9           25    Victor  ...        vstevens@yahoo.com            5\n10          26   Richard  ...  ricunningham@hotmail.com            4\n11          27   Patrick  ...      patrick.gray@aol.com            4\n12          28     Julia  ...       jubarnett@gmail.com            5\n\n[13 rows x 13 columns]\n",
          "output_type": "stream"
        },
        {
          "execution_count": 39,
          "output_type": "execute_result",
          "data": {
            "text/plain": "{\"CustomerId\":{\"0\":16,\"1\":17,\"2\":18,\"3\":19,\"4\":20,\"5\":21,\"6\":22,\"7\":23,\"8\":24,\"9\":25,\"10\":26,\"11\":27,\"12\":28},\"FirstName\":{\"0\":\"Frank\",\"1\":\"Jack\",\"2\":\"Michelle\",\"3\":\"Tim\",\"4\":\"Dan\",\"5\":\"Kathy\",\"6\":\"Heather\",\"7\":\"John\",\"8\":\"Frank\",\"9\":\"Victor\",\"10\":\"Richard\",\"11\":\"Patrick\",\"12\":\"Julia\"},\"LastName\":{\"0\":\"Harris\",\"1\":\"Smith\",\"2\":\"Brooks\",\"3\":\"Goyer\",\"4\":\"Miller\",\"5\":\"Chase\",\"6\":\"Leacock\",\"7\":\"Gordon\",\"8\":\"Ralston\",\"9\":\"Stevens\",\"10\":\"Cunningham\",\"11\":\"Gray\",\"12\":\"Barnett\"},\"Company\":{\"0\":\"Google Inc.\",\"1\":\"Microsoft Corporation\",\"2\":null,\"3\":\"Apple Inc.\",\"4\":null,\"5\":null,\"6\":null,\"7\":null,\"8\":null,\"9\":null,\"10\":null,\"11\":null,\"12\":null},\"Address\":{\"0\":\"1600 Amphitheatre Parkway\",\"1\":\"1 Microsoft Way\",\"2\":\"627 Broadway\",\"3\":\"1 Infinite Loop\",\"4\":\"541 Del Medio Avenue\",\"5\":\"801 W 4th Street\",\"6\":\"120 S Orange Ave\",\"7\":\"69 Salem Street\",\"8\":\"162 E Superior Street\",\"9\":\"319 N. Frances Street\",\"10\":\"2211 W Berry Street\",\"11\":\"1033 N Park Ave\",\"12\":\"302 S 700 E\"},\"City\":{\"0\":\"Mountain View\",\"1\":\"Redmond\",\"2\":\"New York\",\"3\":\"Cupertino\",\"4\":\"Mountain View\",\"5\":\"Reno\",\"6\":\"Orlando\",\"7\":\"Boston\",\"8\":\"Chicago\",\"9\":\"Madison\",\"10\":\"Fort Worth\",\"11\":\"Tucson\",\"12\":\"Salt Lake City\"},\"State\":{\"0\":\"CA\",\"1\":\"WA\",\"2\":\"NY\",\"3\":\"CA\",\"4\":\"CA\",\"5\":\"NV\",\"6\":\"FL\",\"7\":\"MA\",\"8\":\"IL\",\"9\":\"WI\",\"10\":\"TX\",\"11\":\"AZ\",\"12\":\"UT\"},\"Country\":{\"0\":\"USA\",\"1\":\"USA\",\"2\":\"USA\",\"3\":\"USA\",\"4\":\"USA\",\"5\":\"USA\",\"6\":\"USA\",\"7\":\"USA\",\"8\":\"USA\",\"9\":\"USA\",\"10\":\"USA\",\"11\":\"USA\",\"12\":\"USA\"},\"PostalCode\":{\"0\":\"94043-1351\",\"1\":\"98052-8300\",\"2\":\"10012-2612\",\"3\":\"95014\",\"4\":\"94040-111\",\"5\":\"89503\",\"6\":\"32801\",\"7\":\"2113\",\"8\":\"60611\",\"9\":\"53703\",\"10\":\"76110\",\"11\":\"85719\",\"12\":\"84102\"},\"Phone\":{\"0\":\"+1 (650) 253-0000\",\"1\":\"+1 (425) 882-8080\",\"2\":\"+1 (212) 221-3546\",\"3\":\"+1 (408) 996-1010\",\"4\":\"+1 (650) 644-3358\",\"5\":\"+1 (775) 223-7665\",\"6\":\"+1 (407) 999-7788\",\"7\":\"+1 (617) 522-1333\",\"8\":\"+1 (312) 332-3232\",\"9\":\"+1 (608) 257-0597\",\"10\":\"+1 (817) 924-7272\",\"11\":\"+1 (520) 622-4200\",\"12\":\"+1 (801) 531-7272\"},\"Fax\":{\"0\":\"+1 (650) 253-0000\",\"1\":\"+1 (425) 882-8081\",\"2\":\"+1 (212) 221-4679\",\"3\":\"+1 (408) 996-1011\",\"4\":null,\"5\":null,\"6\":null,\"7\":null,\"8\":null,\"9\":null,\"10\":null,\"11\":null,\"12\":null},\"Email\":{\"0\":\"fharris@google.com\",\"1\":\"jacksmith@microsoft.com\",\"2\":\"michelleb@aol.com\",\"3\":\"tgoyer@apple.com\",\"4\":\"dmiller@comcast.com\",\"5\":\"kachase@hotmail.com\",\"6\":\"hleacock@gmail.com\",\"7\":\"johngordon22@yahoo.com\",\"8\":\"fralston@gmail.com\",\"9\":\"vstevens@yahoo.com\",\"10\":\"ricunningham@hotmail.com\",\"11\":\"patrick.gray@aol.com\",\"12\":\"jubarnett@gmail.com\"},\"SupportRepId\":{\"0\":4,\"1\":5,\"2\":3,\"3\":3,\"4\":4,\"5\":5,\"6\":4,\"7\":4,\"8\":3,\"9\":5,\"10\":4,\"11\":4,\"12\":5}}"
          },
          "metadata": {}
        }
      ],
      "execution_count": 39
    },
    {
      "cell_type": "code",
      "source": "typeof df_result",
      "metadata": {
        "trusted": true
      },
      "outputs": [
        {
          "execution_count": 40,
          "output_type": "execute_result",
          "data": {
            "text/plain": "string"
          },
          "metadata": {}
        }
      ],
      "execution_count": 40
    },
    {
      "cell_type": "markdown",
      "source": "### Generate Python code based on the related data and user query",
      "metadata": {}
    },
    {
      "cell_type": "code",
      "source": "import { OpenAI } from \"@langchain/openai\";\n\n\nconst openai_api_base='https://delta.helloway.workers.dev/v1';\nconst openai_api_key= 'sk-BGuzv1Xgj1u5WDObw7sYT3BlbkFJrQd1upRgeTbymcina';\n\n\n// Initialize a new instance of ChatOpenAI\nconst llm = new OpenAI({  \n    modelName: \"gpt-3.5-turbo-0125\",\n    configuration: {\n    baseURL:  openai_api_base,\n  },\n    openAIApiKey: openai_api_key,\n    temperature: 0,\n});\nprompt_str = `\nhere is a dataframe in json format:\n${df_result}\nbased of this data above, can you answer this user question:\nuser query: ${user_query}\n\nif you think any calculation or code is required, just provide the python code to evaluate the answer, and nothing else.\nif the output is python code, just generate the code and dont add any extra keyword or explanation to the code. generate a complete executable python code.\ninclude print statements in the code to answer the question as well.\nif the output is general text and not code, be the first word as \"output\" and then the output.\n`\n\nconst res = await llm.call(prompt_str);\n",
      "metadata": {
        "trusted": true
      },
      "outputs": [],
      "execution_count": 55
    },
    {
      "cell_type": "code",
      "source": "typeof res[0]",
      "metadata": {
        "trusted": true,
        "scrolled": true
      },
      "outputs": [
        {
          "execution_count": 47,
          "output_type": "execute_result",
          "data": {
            "text/plain": "string"
          },
          "metadata": {}
        }
      ],
      "execution_count": 47
    },
    {
      "cell_type": "code",
      "source": "res",
      "metadata": {
        "trusted": true
      },
      "outputs": [
        {
          "execution_count": 56,
          "output_type": "execute_result",
          "data": {
            "text/plain": "```python\nimport pandas as pd\n\ndata = {\n    \"CustomerId\":{\"0\":16,\"1\":17,\"2\":18,\"3\":19,\"4\":20,\"5\":21,\"6\":22,\"7\":23,\"8\":24,\"9\":25,\"10\":26,\"11\":27,\"12\":28},\n    \"FirstName\":{\"0\":\"Frank\",\"1\":\"Jack\",\"2\":\"Michelle\",\"3\":\"Tim\",\"4\":\"Dan\",\"5\":\"Kathy\",\"6\":\"Heather\",\"7\":\"John\",\"8\":\"Frank\",\"9\":\"Victor\",\"10\":\"Richard\",\"11\":\"Patrick\",\"12\":\"Julia\"},\n    \"LastName\":{\"0\":\"Harris\",\"1\":\"Smith\",\"2\":\"Brooks\",\"3\":\"Goyer\",\"4\":\"Miller\",\"5\":\"Chase\",\"6\":\"Leacock\",\"7\":\"Gordon\",\"8\":\"Ralston\",\"9\":\"Stevens\",\"10\":\"Cunningham\",\"11\":\"Gray\",\"12\":\"Barnett\"},\n    \"Company\":{\"0\":\"Google Inc.\",\"1\":\"Microsoft Corporation\",\"2\":None,\"3\":\"Apple Inc.\",\"4\":None,\"5\":None,\"6\":None,\"7\":None,\"8\":None,\"9\":None,\"10\":None,\"11\":None,\"12\":None},\n    \"Address\":{\"0\":\"1600 Amphitheatre Parkway\",\"1\":\"1 Microsoft Way\",\"2\":\"627 Broadway\",\"3\":\"1 Infinite Loop\",\"4\":\"541 Del Medio Avenue\",\"5\":\"801 W 4th Street\",\"6\":\"120 S Orange Ave\",\"7\":\"69 Salem Street\",\"8\":\"162 E Superior Street\",\"9\":\"319 N. Frances Street\",\"10\":\"2211 W Berry Street\",\"11\":\"1033 N Park Ave\",\"12\":\"302 S 700 E\"},\n    \"City\":{\"0\":\"Mountain View\",\"1\":\"Redmond\",\"2\":\"New York\",\"3\":\"Cupertino\",\"4\":\"Mountain View\",\"5\":\"Reno\",\"6\":\"Orlando\",\"7\":\"Boston\",\"8\":\"Chicago\",\"9\":\"Madison\",\"10\":\"Fort Worth\",\"11\":\"Tucson\",\"12\":\"Salt Lake City\"},\n    \"State\":{\"0\":\"CA\",\"1\":\"WA\",\"2\":\"NY\",\"3\":\"CA\",\"4\":\"CA\",\"5\":\"NV\",\"6\":\"FL\",\"7\":\"MA\",\"8\":\"IL\",\"9\":\"WI\",\"10\":\"TX\",\"11\":\"AZ\",\"12\":\"UT\"},\n    \"Country\":{\"0\":\"USA\",\"1\":\"USA\",\"2\":\"USA\",\"3\":\"USA\",\"4\":\"USA\",\"5\":\"USA\",\"6\":\"USA\",\"7\":\"USA\",\"8\":\"USA\",\"9\":\"USA\",\"10\":\"USA\",\"11\":\"USA\",\"12\":\"USA\"},\n    \"PostalCode\":{\"0\":\"94043-1351\",\"1\":\"98052-8300\",\"2\":\"10012-2612\",\"3\":\"95014\",\"4\":\"94040-111\",\"5\":\"89503\",\"6\":\"32801\",\"7\":\"2113\",\"8\":\"60611\",\"9\":\"53703\",\"10\":\"76110\",\"11\":\"85719\",\"12\":\"84102\"},\n    \"Phone\":{\"0\":\"+1 (650) 253-0000\",\"1\":\"+1 (425) 882-8080\",\"2\":\"+1 (212) 221-3546\",\"3\":\"+1 (408) 996-1010\",\"4\":\"+1 (650) 644-3358\",\"5\":\"+1 (775) 223-7665\",\"6\":\"+1 (407) 999-7788\",\"7\":\"+1 (617) 522-1333\",\"8\":\"+1 (312) 332-3232\",\"9\":\"+1 (608) 257-0597\",\"10\":\"+1 (817) 924-7272\",\"11\":\"+1 (520) 622-4200\",\"12\":\"+1 (801) 531-7272\"},\n    \"Fax\":{\"0\":\"+1 (650) 253-0000\",\"1\":\"+1 (425) 882-8081\",\"2\":\"+1 (212) 221-4679\",\"3\":\"+1 (408) 996-1011\",\"4\":None,\"5\":None,\"6\":None,\"7\":None,\"8\":None,\"9\":None,\"10\":None,\"11\":None,\"12\":None},\n    \"Email\":{\"0\":\"fharris@google.com\",\"1\":\"jacksmith@microsoft.com\",\"2\":\"michelleb@aol.com\",\"3\":\"tgoyer@apple.com\",\"4\":\"dmiller@comcast.com\",\"5\":\"kachase@hotmail.com\",\"6\":\"hleacock@gmail.com\",\"7\":\"johngordon22@yahoo.com\",\"8\":\"fralston@gmail.com\",\"9\":\"vstevens@yahoo.com\",\"10\":\"ricunningham@hotmail.com\",\"11\":\"patrick.gray@aol.com\",\"12\":\"jubarnett@gmail.com\"},\n    \"SupportRepId\":{\"0\":4,\"1\":5,\"2\":3,\"3\":3,\"4\":4,\"5\":5,\"6\":4,\"7\":4,\"8\":3,\"9\":5,\"10\":4,\"11\":4,\"12\":5}\n}\n\ndf = pd.DataFrame(data)\n\nnum_customers_usa = len(df[df['Country'] == 'USA'])\nprint(\"Number of customers working in USA:\", num_customers_usa)\n```"
          },
          "metadata": {}
        }
      ],
      "execution_count": 56
    },
    {
      "cell_type": "code",
      "source": "// Remove the quotes and 'Python' keyword\nconst code = res.replace(\"python\",\"\").replace(/`{3}/g, \"\");",
      "metadata": {
        "trusted": true,
        "scrolled": true
      },
      "outputs": [],
      "execution_count": 57
    },
    {
      "cell_type": "code",
      "source": "code",
      "metadata": {
        "trusted": true
      },
      "outputs": [
        {
          "execution_count": 58,
          "output_type": "execute_result",
          "data": {
            "text/plain": "\nimport pandas as pd\n\ndata = {\n    \"CustomerId\":{\"0\":16,\"1\":17,\"2\":18,\"3\":19,\"4\":20,\"5\":21,\"6\":22,\"7\":23,\"8\":24,\"9\":25,\"10\":26,\"11\":27,\"12\":28},\n    \"FirstName\":{\"0\":\"Frank\",\"1\":\"Jack\",\"2\":\"Michelle\",\"3\":\"Tim\",\"4\":\"Dan\",\"5\":\"Kathy\",\"6\":\"Heather\",\"7\":\"John\",\"8\":\"Frank\",\"9\":\"Victor\",\"10\":\"Richard\",\"11\":\"Patrick\",\"12\":\"Julia\"},\n    \"LastName\":{\"0\":\"Harris\",\"1\":\"Smith\",\"2\":\"Brooks\",\"3\":\"Goyer\",\"4\":\"Miller\",\"5\":\"Chase\",\"6\":\"Leacock\",\"7\":\"Gordon\",\"8\":\"Ralston\",\"9\":\"Stevens\",\"10\":\"Cunningham\",\"11\":\"Gray\",\"12\":\"Barnett\"},\n    \"Company\":{\"0\":\"Google Inc.\",\"1\":\"Microsoft Corporation\",\"2\":None,\"3\":\"Apple Inc.\",\"4\":None,\"5\":None,\"6\":None,\"7\":None,\"8\":None,\"9\":None,\"10\":None,\"11\":None,\"12\":None},\n    \"Address\":{\"0\":\"1600 Amphitheatre Parkway\",\"1\":\"1 Microsoft Way\",\"2\":\"627 Broadway\",\"3\":\"1 Infinite Loop\",\"4\":\"541 Del Medio Avenue\",\"5\":\"801 W 4th Street\",\"6\":\"120 S Orange Ave\",\"7\":\"69 Salem Street\",\"8\":\"162 E Superior Street\",\"9\":\"319 N. Frances Street\",\"10\":\"2211 W Berry Street\",\"11\":\"1033 N Park Ave\",\"12\":\"302 S 700 E\"},\n    \"City\":{\"0\":\"Mountain View\",\"1\":\"Redmond\",\"2\":\"New York\",\"3\":\"Cupertino\",\"4\":\"Mountain View\",\"5\":\"Reno\",\"6\":\"Orlando\",\"7\":\"Boston\",\"8\":\"Chicago\",\"9\":\"Madison\",\"10\":\"Fort Worth\",\"11\":\"Tucson\",\"12\":\"Salt Lake City\"},\n    \"State\":{\"0\":\"CA\",\"1\":\"WA\",\"2\":\"NY\",\"3\":\"CA\",\"4\":\"CA\",\"5\":\"NV\",\"6\":\"FL\",\"7\":\"MA\",\"8\":\"IL\",\"9\":\"WI\",\"10\":\"TX\",\"11\":\"AZ\",\"12\":\"UT\"},\n    \"Country\":{\"0\":\"USA\",\"1\":\"USA\",\"2\":\"USA\",\"3\":\"USA\",\"4\":\"USA\",\"5\":\"USA\",\"6\":\"USA\",\"7\":\"USA\",\"8\":\"USA\",\"9\":\"USA\",\"10\":\"USA\",\"11\":\"USA\",\"12\":\"USA\"},\n    \"PostalCode\":{\"0\":\"94043-1351\",\"1\":\"98052-8300\",\"2\":\"10012-2612\",\"3\":\"95014\",\"4\":\"94040-111\",\"5\":\"89503\",\"6\":\"32801\",\"7\":\"2113\",\"8\":\"60611\",\"9\":\"53703\",\"10\":\"76110\",\"11\":\"85719\",\"12\":\"84102\"},\n    \"Phone\":{\"0\":\"+1 (650) 253-0000\",\"1\":\"+1 (425) 882-8080\",\"2\":\"+1 (212) 221-3546\",\"3\":\"+1 (408) 996-1010\",\"4\":\"+1 (650) 644-3358\",\"5\":\"+1 (775) 223-7665\",\"6\":\"+1 (407) 999-7788\",\"7\":\"+1 (617) 522-1333\",\"8\":\"+1 (312) 332-3232\",\"9\":\"+1 (608) 257-0597\",\"10\":\"+1 (817) 924-7272\",\"11\":\"+1 (520) 622-4200\",\"12\":\"+1 (801) 531-7272\"},\n    \"Fax\":{\"0\":\"+1 (650) 253-0000\",\"1\":\"+1 (425) 882-8081\",\"2\":\"+1 (212) 221-4679\",\"3\":\"+1 (408) 996-1011\",\"4\":None,\"5\":None,\"6\":None,\"7\":None,\"8\":None,\"9\":None,\"10\":None,\"11\":None,\"12\":None},\n    \"Email\":{\"0\":\"fharris@google.com\",\"1\":\"jacksmith@microsoft.com\",\"2\":\"michelleb@aol.com\",\"3\":\"tgoyer@apple.com\",\"4\":\"dmiller@comcast.com\",\"5\":\"kachase@hotmail.com\",\"6\":\"hleacock@gmail.com\",\"7\":\"johngordon22@yahoo.com\",\"8\":\"fralston@gmail.com\",\"9\":\"vstevens@yahoo.com\",\"10\":\"ricunningham@hotmail.com\",\"11\":\"patrick.gray@aol.com\",\"12\":\"jubarnett@gmail.com\"},\n    \"SupportRepId\":{\"0\":4,\"1\":5,\"2\":3,\"3\":3,\"4\":4,\"5\":5,\"6\":4,\"7\":4,\"8\":3,\"9\":5,\"10\":4,\"11\":4,\"12\":5}\n}\n\ndf = pd.DataFrame(data)\n\nnum_customers_usa = len(df[df['Country'] == 'USA'])\nprint(\"Number of customers working in USA:\", num_customers_usa)\n"
          },
          "metadata": {}
        }
      ],
      "execution_count": 58
    },
    {
      "cell_type": "markdown",
      "source": "### Execute the clean Python code",
      "metadata": {}
    },
    {
      "cell_type": "code",
      "source": "// await import('https://cdn.jsdelivr.net/pyodide/v0.25.0/full/pyodide.js');\n\n// let pyodide = await loadPyodide();\nawait pyodide.loadPackage(\"micropip\");\nconst micropip = pyodide.pyimport(\"micropip\");\nawait micropip.install('pandas')\nawait micropip.install('matplotlib')\nlet extract_data = pyodide.runPython(code);\n",
      "metadata": {
        "trusted": true
      },
      "outputs": [
        {
          "name": "stdout",
          "text": "micropip already loaded from default channel\nNo new packages to load\nNumber of users living in USA: 13\n",
          "output_type": "stream"
        }
      ],
      "execution_count": 45
    },
    {
      "cell_type": "markdown",
      "source": "## Helper code to generate schema of a database",
      "metadata": {
        "jp-MarkdownHeadingCollapsed": true
      }
    },
    {
      "cell_type": "code",
      "source": "// await import('https://cdn.jsdelivr.net/pyodide/v0.25.0/full/pyodide.js');\n// console.log('test');\n// let pyodide = await loadPyodide();\n// let zipResponse = await fetch(\"https://github.com/SaiNavyanth2000/public_data/raw/main/hsbc_sample_employee_db.zip\");\n// let zipBinary = await zipResponse.arrayBuffer();\n// pyodide.unpackArchive(zipBinary, \"zip\");\nawait pyodide.loadPackage(\"micropip\");\nconst micropip = pyodide.pyimport(\"micropip\");\nawait micropip.install('pandas')\nawait micropip.install('sqlalchemy')\nlet extract_data = pyodide.runPython(`\nfrom sqlalchemy import text\nimport sqlalchemy\nimport pandas as pd\n#2.-Turn on database engine\ndbEngine=sqlalchemy.create_engine('sqlite:///employees.db', echo=True) \ndef extract_data(sql_query):\n    with dbEngine.begin() as conn:\n        query = text(sql_query)\n        df = pd.read_sql_query(query, conn)\n        return df.to_json()\nextract_data\n`);\n\n    \nschema_str = extract_data(\"pragma table_info(customers)\")",
      "metadata": {
        "trusted": true
      },
      "outputs": [
        {
          "name": "stdout",
          "text": "micropip already loaded from default channel\nNo new packages to load\n2024-06-12 15:36:59,048 INFO sqlalchemy.engine.Engine BEGIN (implicit)\n2024-06-12 15:36:59,049 INFO sqlalchemy.engine.Engine pragma table_info(customers)\n2024-06-12 15:36:59,052 INFO sqlalchemy.engine.Engine [generated in 0.00200s] ()\n2024-06-12 15:36:59,067 INFO sqlalchemy.engine.Engine COMMIT\n",
          "output_type": "stream"
        }
      ],
      "execution_count": 50
    },
    {
      "cell_type": "code",
      "source": "schema_str",
      "metadata": {
        "trusted": true
      },
      "outputs": [
        {
          "execution_count": 51,
          "output_type": "execute_result",
          "data": {
            "text/plain": "{\"cid\":{\"0\":0,\"1\":1,\"2\":2,\"3\":3,\"4\":4,\"5\":5,\"6\":6,\"7\":7,\"8\":8,\"9\":9,\"10\":10,\"11\":11,\"12\":12},\"name\":{\"0\":\"CustomerId\",\"1\":\"FirstName\",\"2\":\"LastName\",\"3\":\"Company\",\"4\":\"Address\",\"5\":\"City\",\"6\":\"State\",\"7\":\"Country\",\"8\":\"PostalCode\",\"9\":\"Phone\",\"10\":\"Fax\",\"11\":\"Email\",\"12\":\"SupportRepId\"},\"type\":{\"0\":\"INTEGER\",\"1\":\"NVARCHAR(40)\",\"2\":\"NVARCHAR(20)\",\"3\":\"NVARCHAR(80)\",\"4\":\"NVARCHAR(70)\",\"5\":\"NVARCHAR(40)\",\"6\":\"NVARCHAR(40)\",\"7\":\"NVARCHAR(40)\",\"8\":\"NVARCHAR(10)\",\"9\":\"NVARCHAR(24)\",\"10\":\"NVARCHAR(24)\",\"11\":\"NVARCHAR(60)\",\"12\":\"INTEGER\"},\"notnull\":{\"0\":1,\"1\":1,\"2\":1,\"3\":0,\"4\":0,\"5\":0,\"6\":0,\"7\":0,\"8\":0,\"9\":0,\"10\":0,\"11\":1,\"12\":0},\"dflt_value\":{\"0\":null,\"1\":null,\"2\":null,\"3\":null,\"4\":null,\"5\":null,\"6\":null,\"7\":null,\"8\":null,\"9\":null,\"10\":null,\"11\":null,\"12\":null},\"pk\":{\"0\":1,\"1\":0,\"2\":0,\"3\":0,\"4\":0,\"5\":0,\"6\":0,\"7\":0,\"8\":0,\"9\":0,\"10\":0,\"11\":0,\"12\":0}}"
          },
          "metadata": {}
        }
      ],
      "execution_count": 51
    },
    {
      "cell_type": "code",
      "source": "",
      "metadata": {
        "trusted": true
      },
      "outputs": [],
      "execution_count": null
    }
  ]
}
